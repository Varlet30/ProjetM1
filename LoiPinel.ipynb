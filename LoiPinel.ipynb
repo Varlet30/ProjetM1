{
 "cells": [
  {
   "cell_type": "code",
   "execution_count": 6,
   "metadata": {},
   "outputs": [],
   "source": [
    "def Pinel(PrixInvest, NbMCarre, DureeEngagement):\n",
    "    if PrixInvest > 300000:\n",
    "        PrixInvest=300000\n",
    "        print(\"Investissement plafonné à 300 000\")\n",
    "    PrixMCarre=PrixInvest/NbMCarre\n",
    "    if PrixMCarre > 5500:\n",
    "        PrixMCarre = 5500\n",
    "        print(\"Prix par m² plafonné à 5 500\")\n",
    "    PrixTot=PrixMCarre*NbMCarre\n",
    "    print(\"Prix Total de:\",PrixTot)\n",
    "    ReducTotal=PrixTot*DureeEngagement*2/100 \n",
    "    print(\"Reduction Total de:\",ReducTotal)\n",
    "    ReducAnnuelle=ReducTotal/DureeEngagement\n",
    "    print(\"Reduction Anuelle de:\",ReducAnnuelle)\n",
    "    print(\"Si vous decidez de prolonger pour 3ans vous gagnez 3%\")\n",
    "    ReducAnnuelleSurplus=PrixTot*1/100\n",
    "    print(\"Reduction Anuelle devient de:\",ReducAnnuelleSurplus)\n",
    "    ReducTotalSurplus=PrixTot*1/100*3+ReducTotal\n",
    "    print(\"Reduction Total devient de:\",ReducTotalSurplus)\n",
    "    return PrixTot,ReducTotal,ReducAnnuelle,ReducAnnuelleSurplus,ReducTotalSurplus"
   ]
  },
  {
   "cell_type": "code",
   "execution_count": 7,
   "metadata": {},
   "outputs": [
    {
     "name": "stdout",
     "output_type": "stream",
     "text": [
      "Prix par m² plafonné à 5 500\n",
      "Prix Total de: 220000\n",
      "Reduction Total de: 39600.0\n",
      "Reduction Anuelle de: 4400.0\n",
      "Si vous decidez de prolonger pour 3ans vous gagnez 3%\n",
      "Reduction Anuelle devient de: 2200.0\n",
      "Reduction Total devient de: 46200.0\n"
     ]
    },
    {
     "data": {
      "text/plain": [
       "(220000, 39600.0, 4400.0, 2200.0, 46200.0)"
      ]
     },
     "execution_count": 7,
     "metadata": {},
     "output_type": "execute_result"
    }
   ],
   "source": [
    "Pinel(250000,40,9)"
   ]
  },
  {
   "cell_type": "code",
   "execution_count": null,
   "metadata": {},
   "outputs": [],
   "source": []
  }
 ],
 "metadata": {
  "kernelspec": {
   "display_name": "Python 3",
   "language": "python",
   "name": "python3"
  },
  "language_info": {
   "codemirror_mode": {
    "name": "ipython",
    "version": 3
   },
   "file_extension": ".py",
   "mimetype": "text/x-python",
   "name": "python",
   "nbconvert_exporter": "python",
   "pygments_lexer": "ipython3",
   "version": "3.6.6"
  }
 },
 "nbformat": 4,
 "nbformat_minor": 2
}
